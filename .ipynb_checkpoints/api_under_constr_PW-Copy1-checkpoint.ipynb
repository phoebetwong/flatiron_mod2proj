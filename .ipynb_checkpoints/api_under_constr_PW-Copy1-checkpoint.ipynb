{
 "cells": [
  {
   "cell_type": "code",
   "execution_count": 1,
   "metadata": {},
   "outputs": [],
   "source": [
    "############################ REPLACE KEY WITH SECRET BEFORE PUBLISHING ###################################"
   ]
  },
  {
   "cell_type": "code",
   "execution_count": 2,
   "metadata": {},
   "outputs": [],
   "source": [
    "import requests\n",
    "import pandas\n",
    "import re\n",
    "import datetime\n",
    "import time\n"
   ]
  },
  {
   "cell_type": "code",
   "execution_count": 61,
   "metadata": {},
   "outputs": [],
   "source": [
    "api_key = #'insert api key here '"
   ]
  },
  {
   "cell_type": "code",
   "execution_count": 62,
   "metadata": {},
   "outputs": [
    {
     "data": {
      "text/plain": [
       "1322715600"
      ]
     },
     "execution_count": 62,
     "metadata": {},
     "output_type": "execute_result"
    }
   ],
   "source": [
    "# daynow = \"06/28/2019\"\n",
    "# time.mktime(datetime.datetime.strptime(daynow, \"%d/%m/%Y\").timetuple())\n",
    "s = \"01/12/2011\"\n",
    "daynow = time.mktime(datetime.datetime.strptime(s, \"%d/%m/%Y\").timetuple())\n",
    "round(daynow)\n"
   ]
  },
  {
   "cell_type": "code",
   "execution_count": null,
   "metadata": {},
   "outputs": [],
   "source": []
  },
  {
   "cell_type": "code",
   "execution_count": 63,
   "metadata": {},
   "outputs": [
    {
     "data": {
      "text/plain": [
       "'https://api.darksky.net/forecast/,52.5200,13.4050,1322715600.0'"
      ]
     },
     "execution_count": 63,
     "metadata": {},
     "output_type": "execute_result"
    }
   ],
   "source": [
    "SEARCH_LIMIT = 10\n",
    "url_base = 'https://api.darksky.net/forecast/'\n",
    "longitude = '52.5200'\n",
    "latitude = '13.4050'\n",
    "url = url_base + api_key + ','+ str(longitude) + ',' + str(latitude) + ',' + str(daynow)\n",
    "url"
   ]
  },
  {
   "cell_type": "code",
   "execution_count": 41,
   "metadata": {},
   "outputs": [],
   "source": [
    "# headers = {'key':api_key}\n",
    "\n",
    "# url_params = {\n",
    "#                 'longitude':52.5200\n",
    "#                 'latitude':13.4050\n",
    "#                 'time':daynow\n",
    "#             }\n",
    "response = requests.get('https://api.darksky.net/forecast/cd35acf369b55daae38db9a2dd08b546/37.8267,-122.4233,1294840700')#, headers=headers, params=url_params)\n",
    "\n"
   ]
  },
  {
   "cell_type": "code",
   "execution_count": 37,
   "metadata": {},
   "outputs": [],
   "source": [
    "# headers = {'key':api_key}\n",
    "\n",
    "# url_params = {\n",
    "#                 'longitude':52.5200\n",
    "#                 'latitude':13.4050\n",
    "#                 'time':daynow\n",
    "#             }\n",
    "response1 = requests.get('https://api.darksky.net/forecast/cd35acf369b55daae38db9a2dd08b546/37.8267,-122.4233,1294840800')#, headers=headers, params=url_params)\n",
    "\n"
   ]
  },
  {
   "cell_type": "code",
   "execution_count": 32,
   "metadata": {},
   "outputs": [
    {
     "data": {
      "text/plain": [
       "200"
      ]
     },
     "execution_count": 32,
     "metadata": {},
     "output_type": "execute_result"
    }
   ],
   "source": [
    "response.status_code"
   ]
  },
  {
   "cell_type": "code",
   "execution_count": 8,
   "metadata": {},
   "outputs": [
    {
     "data": {
      "text/plain": [
       "bytes"
      ]
     },
     "execution_count": 8,
     "metadata": {},
     "output_type": "execute_result"
    }
   ],
   "source": [
    "type(response.content)"
   ]
  },
  {
   "cell_type": "code",
   "execution_count": 7,
   "metadata": {
    "scrolled": false
   },
   "outputs": [
    {
     "data": {
      "text/plain": [
       "str"
      ]
     },
     "execution_count": 7,
     "metadata": {},
     "output_type": "execute_result"
    }
   ],
   "source": [
    "type(response.text)"
   ]
  },
  {
   "cell_type": "code",
   "execution_count": 33,
   "metadata": {},
   "outputs": [],
   "source": [
    "import re\n",
    "import json\n",
    "from bs4 import BeautifulSoup"
   ]
  },
  {
   "cell_type": "code",
   "execution_count": 65,
   "metadata": {},
   "outputs": [],
   "source": [
    "soup = BeautifulSoup(response.text)"
   ]
  },
  {
   "cell_type": "code",
   "execution_count": 66,
   "metadata": {},
   "outputs": [],
   "source": [
    "par1 = soup.find_all('p') # return back list"
   ]
  },
  {
   "cell_type": "code",
   "execution_count": 51,
   "metadata": {},
   "outputs": [
    {
     "ename": "AttributeError",
     "evalue": "ResultSet object has no attribute 'keys'. You're probably treating a list of items like a single item. Did you call find_all() when you meant to call find()?",
     "output_type": "error",
     "traceback": [
      "\u001b[0;31m---------------------------------------------------------------------------\u001b[0m",
      "\u001b[0;31mAttributeError\u001b[0m                            Traceback (most recent call last)",
      "\u001b[0;32m<ipython-input-51-5c454cc94213>\u001b[0m in \u001b[0;36m<module>\u001b[0;34m\u001b[0m\n\u001b[0;32m----> 1\u001b[0;31m \u001b[0mtest\u001b[0m\u001b[0;34m.\u001b[0m\u001b[0mkeys\u001b[0m\u001b[0;34m(\u001b[0m\u001b[0;34m)\u001b[0m\u001b[0;34m\u001b[0m\u001b[0;34m\u001b[0m\u001b[0m\n\u001b[0m",
      "\u001b[0;32m~/anaconda3/lib/python3.7/site-packages/bs4/element.py\u001b[0m in \u001b[0;36m__getattr__\u001b[0;34m(self, key)\u001b[0m\n\u001b[1;32m   1618\u001b[0m     \u001b[0;32mdef\u001b[0m \u001b[0m__getattr__\u001b[0m\u001b[0;34m(\u001b[0m\u001b[0mself\u001b[0m\u001b[0;34m,\u001b[0m \u001b[0mkey\u001b[0m\u001b[0;34m)\u001b[0m\u001b[0;34m:\u001b[0m\u001b[0;34m\u001b[0m\u001b[0;34m\u001b[0m\u001b[0m\n\u001b[1;32m   1619\u001b[0m         raise AttributeError(\n\u001b[0;32m-> 1620\u001b[0;31m             \u001b[0;34m\"ResultSet object has no attribute '%s'. You're probably treating a list of items like a single item. Did you call find_all() when you meant to call find()?\"\u001b[0m \u001b[0;34m%\u001b[0m \u001b[0mkey\u001b[0m\u001b[0;34m\u001b[0m\u001b[0;34m\u001b[0m\u001b[0m\n\u001b[0m\u001b[1;32m   1621\u001b[0m         )\n",
      "\u001b[0;31mAttributeError\u001b[0m: ResultSet object has no attribute 'keys'. You're probably treating a list of items like a single item. Did you call find_all() when you meant to call find()?"
     ]
    }
   ],
   "source": [
    "test.keys()"
   ]
  },
  {
   "cell_type": "code",
   "execution_count": 21,
   "metadata": {
    "scrolled": true
   },
   "outputs": [
    {
     "data": {
      "text/plain": [
       "[<html><body><p>{\"latitude\":37.8267,\"longitude\":-122.4233,\"timezone\":\"America/Los_Angeles\",\"currently\":{\"time\":1322715600,\"summary\":\"Clear\",\"icon\":\"clear-night\",\"precipIntensity\":0,\"precipProbability\":0,\"temperature\":59.79,\"apparentTemperature\":59.79,\"dewPoint\":29.13,\"humidity\":0.31,\"pressure\":1022.72,\"windSpeed\":10.59,\"windGust\":18.48,\"windBearing\":11,\"cloudCover\":0,\"uvIndex\":0,\"visibility\":9.997},\"hourly\":{\"summary\":\"Foggy overnight and in the morning.\",\"icon\":\"fog\",\"data\":[{\"time\":1322640000,\"summary\":\"Foggy\",\"icon\":\"fog\",\"precipIntensity\":0,\"precipProbability\":0,\"temperature\":48.4,\"apparentTemperature\":48.4,\"dewPoint\":45.25,\"humidity\":0.89,\"pressure\":1022.68,\"windSpeed\":0.98,\"windGust\":1.57,\"windBearing\":106,\"cloudCover\":1,\"uvIndex\":0,\"visibility\":1.221},{\"time\":1322643600,\"summary\":\"Foggy\",\"icon\":\"fog\",\"precipIntensity\":0,\"precipProbability\":0,\"temperature\":47.99,\"apparentTemperature\":47.99,\"dewPoint\":44.98,\"humidity\":0.89,\"pressure\":1022.31,\"windSpeed\":0.92,\"windGust\":2.22,\"windBearing\":329,\"cloudCover\":1,\"uvIndex\":0,\"visibility\":1.218},{\"time\":1322647200,\"summary\":\"Foggy\",\"icon\":\"fog\",\"precipIntensity\":0,\"precipProbability\":0,\"temperature\":47.7,\"apparentTemperature\":47.7,\"dewPoint\":44.92,\"humidity\":0.9,\"pressure\":1022.27,\"windSpeed\":0.93,\"windGust\":1.77,\"windBearing\":329,\"cloudCover\":1,\"uvIndex\":0,\"visibility\":0.607},{\"time\":1322650800,\"summary\":\"Foggy\",\"icon\":\"fog\",\"precipIntensity\":0,\"precipProbability\":0,\"temperature\":47.41,\"apparentTemperature\":47.41,\"dewPoint\":44.74,\"humidity\":0.9,\"pressure\":1022.36,\"windSpeed\":1.49,\"windGust\":3.21,\"windBearing\":334,\"cloudCover\":1,\"uvIndex\":0,\"visibility\":0.259},{\"time\":1322654400,\"summary\":\"Foggy\",\"icon\":\"fog\",\"precipIntensity\":0,\"precipProbability\":0,\"temperature\":47.23,\"apparentTemperature\":47.23,\"dewPoint\":44.54,\"humidity\":0.9,\"pressure\":1022.06,\"windSpeed\":1.74,\"windGust\":2.35,\"windBearing\":4,\"cloudCover\":1,\"uvIndex\":0,\"visibility\":0.694},{\"time\":1322658000,\"summary\":\"Foggy\",\"icon\":\"fog\",\"precipIntensity\":0,\"precipProbability\":0,\"temperature\":46.68,\"apparentTemperature\":46.68,\"dewPoint\":44.08,\"humidity\":0.91,\"pressure\":1022.01,\"windSpeed\":2.45,\"windGust\":4.68,\"windBearing\":354,\"cloudCover\":1,\"uvIndex\":0,\"visibility\":1.364},{\"time\":1322661600,\"summary\":\"Foggy\",\"icon\":\"fog\",\"precipIntensity\":0,\"precipProbability\":0,\"temperature\":46.33,\"apparentTemperature\":45.21,\"dewPoint\":43.57,\"humidity\":0.9,\"pressure\":1022.35,\"windSpeed\":3.34,\"windGust\":5.82,\"windBearing\":11,\"cloudCover\":1,\"uvIndex\":0,\"visibility\":1.66},{\"time\":1322665200,\"summary\":\"Overcast\",\"icon\":\"cloudy\",\"precipIntensity\":0,\"precipProbability\":0,\"temperature\":46.32,\"apparentTemperature\":44.66,\"dewPoint\":43.55,\"humidity\":0.9,\"pressure\":1022.84,\"windSpeed\":3.95,\"windGust\":5.94,\"windBearing\":13,\"cloudCover\":0.96,\"uvIndex\":0,\"visibility\":4.007},{\"time\":1322668800,\"summary\":\"Mostly Cloudy\",\"icon\":\"partly-cloudy-day\",\"precipIntensity\":0,\"precipProbability\":0,\"temperature\":46.05,\"apparentTemperature\":44.34,\"dewPoint\":43.12,\"humidity\":0.89,\"pressure\":1022.96,\"windSpeed\":3.96,\"windGust\":6.53,\"windBearing\":359,\"cloudCover\":0.86,\"uvIndex\":0,\"visibility\":3.137},{\"time\":1322672400,\"summary\":\"Mostly Cloudy\",\"icon\":\"partly-cloudy-day\",\"precipIntensity\":0,\"precipProbability\":0,\"temperature\":46.86,\"apparentTemperature\":45.41,\"dewPoint\":43.82,\"humidity\":0.89,\"pressure\":1023.66,\"windSpeed\":3.79,\"windGust\":7.01,\"windBearing\":351,\"cloudCover\":0.83,\"uvIndex\":1,\"visibility\":4.498},{\"time\":1322676000,\"summary\":\"Mostly Cloudy\",\"icon\":\"partly-cloudy-day\",\"precipIntensity\":0,\"precipProbability\":0,\"temperature\":48.87,\"apparentTemperature\":46.9,\"dewPoint\":44.68,\"humidity\":0.85,\"pressure\":1023.95,\"windSpeed\":4.99,\"windGust\":9.18,\"windBearing\":351,\"cloudCover\":0.52,\"uvIndex\":1,\"visibility\":7.125},{\"time\":1322679600,\"summary\":\"Clear\",\"icon\":\"clear-day\",\"precipIntensity\":0,\"precipProbability\":0,\"temperature\":52.42,\"apparentTemperature\":52.42,\"dewPoint\":44.02,\"humidity\":0.73,\"pressure\":1024.01,\"windSpeed\":6.6,\"windGust\":10.55,\"windBearing\":330,\"cloudCover\":0.12,\"uvIndex\":2,\"visibility\":9.997},{\"time\":1322683200,\"summary\":\"Clear\",\"icon\":\"clear-day\",\"precipIntensity\":0,\"precipProbability\":0,\"temperature\":56.84,\"apparentTemperature\":56.84,\"dewPoint\":41.68,\"humidity\":0.57,\"pressure\":1022.56,\"windSpeed\":5.66,\"windGust\":11.4,\"windBearing\":347,\"cloudCover\":0.03,\"uvIndex\":2,\"visibility\":9.997},{\"time\":1322686800,\"summary\":\"Clear\",\"icon\":\"clear-day\",\"precipIntensity\":0,\"precipProbability\":0,\"temperature\":60.53,\"apparentTemperature\":60.53,\"dewPoint\":38.6,\"humidity\":0.44,\"pressure\":1022.1,\"windSpeed\":6.97,\"windGust\":13.48,\"windBearing\":347,\"cloudCover\":0,\"uvIndex\":2,\"visibility\":9.997},{\"time\":1322690400,\"summary\":\"Clear\",\"icon\":\"clear-day\",\"precipIntensity\":0,\"precipProbability\":0,\"temperature\":63.38,\"apparentTemperature\":63.38,\"dewPoint\":33.4,\"humidity\":0.33,\"pressure\":1021.09,\"windSpeed\":9.31,\"windGust\":16.42,\"windBearing\":356,\"cloudCover\":0,\"uvIndex\":1,\"visibility\":9.997},{\"time\":1322694000,\"summary\":\"Clear\",\"icon\":\"clear-day\",\"precipIntensity\":0,\"precipProbability\":0,\"temperature\":63.88,\"apparentTemperature\":63.88,\"dewPoint\":31.99,\"humidity\":0.3,\"pressure\":1020.85,\"windSpeed\":9.91,\"windGust\":15.48,\"windBearing\":357,\"cloudCover\":0,\"uvIndex\":1,\"visibility\":9.997},{\"time\":1322697600,\"summary\":\"Clear\",\"icon\":\"clear-day\",\"precipIntensity\":0,\"precipProbability\":0,\"temperature\":64.21,\"apparentTemperature\":64.21,\"dewPoint\":29.97,\"humidity\":0.27,\"pressure\":1021.02,\"windSpeed\":10.44,\"windGust\":17.79,\"windBearing\":359,\"cloudCover\":0,\"uvIndex\":0,\"visibility\":9.997},{\"time\":1322701200,\"summary\":\"Clear\",\"icon\":\"clear-night\",\"precipIntensity\":0,\"precipProbability\":0,\"temperature\":62.74,\"apparentTemperature\":62.74,\"dewPoint\":28.87,\"humidity\":0.28,\"pressure\":1021.14,\"windSpeed\":9.21,\"windGust\":16.55,\"windBearing\":0,\"cloudCover\":0,\"uvIndex\":0,\"visibility\":9.997},{\"time\":1322704800,\"summary\":\"Clear\",\"icon\":\"clear-night\",\"precipIntensity\":0,\"precipProbability\":0,\"temperature\":61.34,\"apparentTemperature\":61.34,\"dewPoint\":28.29,\"humidity\":0.28,\"pressure\":1021.13,\"windSpeed\":9.67,\"windGust\":15.74,\"windBearing\":2,\"cloudCover\":0,\"uvIndex\":0,\"visibility\":9.997},{\"time\":1322708400,\"summary\":\"Clear\",\"icon\":\"clear-night\",\"precipIntensity\":0,\"precipProbability\":0,\"temperature\":60.72,\"apparentTemperature\":60.72,\"dewPoint\":28.58,\"humidity\":0.29,\"pressure\":1021.62,\"windSpeed\":9.47,\"windGust\":16.56,\"windBearing\":10,\"cloudCover\":0,\"uvIndex\":0,\"visibility\":9.997},{\"time\":1322712000,\"summary\":\"Clear\",\"icon\":\"clear-night\",\"precipIntensity\":0,\"precipProbability\":0,\"temperature\":60.49,\"apparentTemperature\":60.49,\"dewPoint\":28.65,\"humidity\":0.3,\"pressure\":1022.08,\"windSpeed\":10.72,\"windGust\":18.7,\"windBearing\":2,\"cloudCover\":0,\"uvIndex\":0,\"visibility\":9.997},{\"time\":1322715600,\"summary\":\"Clear\",\"icon\":\"clear-night\",\"precipIntensity\":0,\"precipProbability\":0,\"temperature\":59.79,\"apparentTemperature\":59.79,\"dewPoint\":29.13,\"humidity\":0.31,\"pressure\":1022.72,\"windSpeed\":10.59,\"windGust\":18.48,\"windBearing\":11,\"cloudCover\":0,\"uvIndex\":0,\"visibility\":9.997},{\"time\":1322719200,\"summary\":\"Clear\",\"icon\":\"clear-night\",\"precipIntensity\":0,\"precipProbability\":0,\"temperature\":59.26,\"apparentTemperature\":59.26,\"dewPoint\":28.49,\"humidity\":0.31,\"pressure\":1023.11,\"windSpeed\":10.13,\"windGust\":17.15,\"windBearing\":19,\"cloudCover\":0,\"uvIndex\":0,\"visibility\":9.997},{\"time\":1322722800,\"summary\":\"Clear\",\"icon\":\"clear-night\",\"precipIntensity\":0,\"precipProbability\":0,\"temperature\":58.41,\"apparentTemperature\":58.41,\"dewPoint\":28.79,\"humidity\":0.32,\"pressure\":1023.46,\"windSpeed\":10.16,\"windGust\":17.13,\"windBearing\":20,\"cloudCover\":0,\"uvIndex\":0,\"visibility\":9.997}]},\"daily\":{\"data\":[{\"time\":1322640000,\"summary\":\"Foggy in the morning.\",\"icon\":\"partly-cloudy-day\",\"sunriseTime\":1322665624,\"sunsetTime\":1322700765,\"moonPhase\":0.21,\"precipIntensity\":0,\"precipIntensityMax\":0,\"precipIntensityMaxTime\":1322647200,\"precipProbability\":0,\"temperatureHigh\":64.21,\"temperatureHighTime\":1322697600,\"temperatureLow\":55.48,\"temperatureLowTime\":1322751600,\"apparentTemperatureHigh\":64.21,\"apparentTemperatureHighTime\":1322697600,\"apparentTemperatureLow\":55.48,\"apparentTemperatureLowTime\":1322751600,\"dewPoint\":37.45,\"humidity\":0.6,\"pressure\":1022.4,\"windSpeed\":6.26,\"windGust\":18.7,\"windGustTime\":1322712000,\"windBearing\":3,\"cloudCover\":0.41,\"uvIndex\":2,\"uvIndexTime\":1322683200,\"visibility\":6.63,\"temperatureMin\":46.05,\"temperatureMinTime\":1322668800,\"temperatureMax\":64.21,\"temperatureMaxTime\":1322697600,\"apparentTemperatureMin\":44.34,\"apparentTemperatureMinTime\":1322668800,\"apparentTemperatureMax\":64.21,\"apparentTemperatureMaxTime\":1322697600}]},\"flags\":{\"sources\":[\"cmc\",\"gfs\",\"hrrr\",\"icon\",\"isd\",\"madis\",\"nam\",\"sref\"],\"nearest-station\":1.234,\"units\":\"us\"},\"offset\":-8}\n",
       " </p></body></html>]"
      ]
     },
     "execution_count": 21,
     "metadata": {},
     "output_type": "execute_result"
    }
   ],
   "source": [
    "list(soup.children)"
   ]
  },
  {
   "cell_type": "code",
   "execution_count": 22,
   "metadata": {},
   "outputs": [
    {
     "data": {
      "text/plain": [
       "[bs4.element.Tag]"
      ]
     },
     "execution_count": 22,
     "metadata": {},
     "output_type": "execute_result"
    }
   ],
   "source": [
    "[type(item) for item in list(soup.children)]"
   ]
  },
  {
   "cell_type": "code",
   "execution_count": 25,
   "metadata": {},
   "outputs": [
    {
     "data": {
      "text/plain": [
       "1"
      ]
     },
     "execution_count": 25,
     "metadata": {},
     "output_type": "execute_result"
    }
   ],
   "source": [
    "len(test)"
   ]
  },
  {
   "cell_type": "code",
   "execution_count": 45,
   "metadata": {},
   "outputs": [],
   "source": [
    "stuff = test[0] # soup object inside list"
   ]
  },
  {
   "cell_type": "code",
   "execution_count": 46,
   "metadata": {},
   "outputs": [
    {
     "data": {
      "text/plain": [
       "bs4.element.Tag"
      ]
     },
     "execution_count": 46,
     "metadata": {},
     "output_type": "execute_result"
    }
   ],
   "source": [
    "type(stuff)"
   ]
  },
  {
   "cell_type": "code",
   "execution_count": 53,
   "metadata": {},
   "outputs": [
    {
     "data": {
      "text/plain": [
       "1"
      ]
     },
     "execution_count": 53,
     "metadata": {},
     "output_type": "execute_result"
    }
   ],
   "source": [
    "len(stuff.contents)"
   ]
  },
  {
   "cell_type": "code",
   "execution_count": 54,
   "metadata": {},
   "outputs": [],
   "source": [
    "stuff1 = stuff.contents[0] # contents convert soup to text"
   ]
  },
  {
   "cell_type": "code",
   "execution_count": 57,
   "metadata": {},
   "outputs": [
    {
     "data": {
      "text/plain": [
       "bs4.element.NavigableString"
      ]
     },
     "execution_count": 57,
     "metadata": {},
     "output_type": "execute_result"
    }
   ],
   "source": [
    "type(stuff1)"
   ]
  },
  {
   "cell_type": "code",
   "execution_count": 59,
   "metadata": {},
   "outputs": [],
   "source": [
    "rain = json.loads(stuff1)"
   ]
  },
  {
   "cell_type": "code",
   "execution_count": 60,
   "metadata": {},
   "outputs": [
    {
     "data": {
      "text/plain": [
       "dict_keys(['latitude', 'longitude', 'timezone', 'currently', 'hourly', 'daily', 'flags', 'offset'])"
      ]
     },
     "execution_count": 60,
     "metadata": {},
     "output_type": "execute_result"
    }
   ],
   "source": [
    "rain.keys()"
   ]
  },
  {
   "cell_type": "code",
   "execution_count": 64,
   "metadata": {},
   "outputs": [
    {
     "data": {
      "text/plain": [
       "0"
      ]
     },
     "execution_count": 64,
     "metadata": {},
     "output_type": "execute_result"
    }
   ],
   "source": [
    "rain['daily']['data'][0]['precipIntensity']"
   ]
  },
  {
   "cell_type": "code",
   "execution_count": null,
   "metadata": {},
   "outputs": [],
   "source": []
  }
 ],
 "metadata": {
  "kernelspec": {
   "display_name": "Python 3",
   "language": "python",
   "name": "python3"
  },
  "language_info": {
   "codemirror_mode": {
    "name": "ipython",
    "version": 3
   },
   "file_extension": ".py",
   "mimetype": "text/x-python",
   "name": "python",
   "nbconvert_exporter": "python",
   "pygments_lexer": "ipython3",
   "version": "3.7.3"
  }
 },
 "nbformat": 4,
 "nbformat_minor": 2
}
