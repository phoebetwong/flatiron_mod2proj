{
 "cells": [
  {
   "cell_type": "code",
   "execution_count": 1,
   "metadata": {},
   "outputs": [],
   "source": [
    "############################ REPLACE KEY WITH SECRET BEFORE PUBLISHING ###################################"
   ]
  },
  {
   "cell_type": "code",
<<<<<<< HEAD
   "execution_count": 86,
=======
   "execution_count": 2,
>>>>>>> 284e972f27d6aaf4061d422341b85c53c052390a
   "metadata": {},
   "outputs": [],
   "source": [
    "import requests\n",
    "import pandas as pd\n",
    "import re\n",
    "import datetime\n",
    "import time\n"
   ]
  },
  {
   "cell_type": "code",
   "execution_count": 97,
   "metadata": {},
   "outputs": [],
   "source": [
    "api_key = ''"
   ]
  },
  {
   "cell_type": "code",
   "execution_count": null,
   "metadata": {},
   "outputs": [],
   "source": [
    "###Get date list and convert to unix time"
   ]
  },
  {
   "cell_type": "code",
   "execution_count": 98,
   "metadata": {},
   "outputs": [],
   "source": [
    "dfdate = pd.read_csv('date.csv')"
   ]
  },
  {
   "cell_type": "code",
   "execution_count": 99,
   "metadata": {},
   "outputs": [
    {
     "data": {
      "text/html": [
       "<div>\n",
       "<style scoped>\n",
       "    .dataframe tbody tr th:only-of-type {\n",
       "        vertical-align: middle;\n",
       "    }\n",
       "\n",
       "    .dataframe tbody tr th {\n",
       "        vertical-align: top;\n",
       "    }\n",
       "\n",
       "    .dataframe thead th {\n",
       "        text-align: right;\n",
       "    }\n",
       "</style>\n",
       "<table border=\"1\" class=\"dataframe\">\n",
       "  <thead>\n",
       "    <tr style=\"text-align: right;\">\n",
       "      <th></th>\n",
       "      <th>Unnamed: 0</th>\n",
       "      <th>Date</th>\n",
       "    </tr>\n",
       "  </thead>\n",
       "  <tbody>\n",
       "    <tr>\n",
       "      <th>0</th>\n",
       "      <td>0</td>\n",
       "      <td>7/15/2011</td>\n",
       "    </tr>\n",
       "    <tr>\n",
       "      <th>1</th>\n",
       "      <td>1</td>\n",
       "      <td>7/15/2011</td>\n",
       "    </tr>\n",
       "  </tbody>\n",
       "</table>\n",
       "</div>"
      ],
      "text/plain": [
       "   Unnamed: 0       Date\n",
       "0           0  7/15/2011\n",
       "1           1  7/15/2011"
      ]
     },
     "execution_count": 99,
     "metadata": {},
     "output_type": "execute_result"
    }
   ],
   "source": [
    "dfdate.head(2)"
   ]
  },
  {
   "cell_type": "code",
   "execution_count": 100,
   "metadata": {},
   "outputs": [],
   "source": [
    "dfdate['unix_date'] = dfdate.Date.apply(lambda s: round(time.mktime(datetime.datetime.strptime(s, \"%m/%d/%Y\").timetuple())))"
   ]
  },
  {
   "cell_type": "code",
   "execution_count": 101,
   "metadata": {
    "scrolled": true
   },
   "outputs": [
    {
     "data": {
      "text/plain": [
       "0    1310702400\n",
       "1    1310702400\n",
       "2    1310702400\n",
       "3    1310788800\n",
       "4    1310788800\n",
       "Name: unix_date, dtype: int64"
      ]
     },
     "execution_count": 101,
     "metadata": {},
     "output_type": "execute_result"
    }
   ],
   "source": [
    "dfdate.unix_date.head()"
   ]
  },
  {
   "cell_type": "code",
   "execution_count": null,
   "metadata": {},
   "outputs": [],
   "source": [
    "#### Demo code (with sample date, not whole list)"
   ]
  },
  {
   "cell_type": "code",
   "execution_count": 102,
   "metadata": {},
   "outputs": [],
   "source": [
    "# daynow = \"06/28/2019\"\n",
    "# time.mktime(datetime.datetime.strptime(daynow, \"%d/%m/%Y\").timetuple())\n",
    "s = \"01/12/2011\"\n",
    "daynow = time.mktime(datetime.datetime.strptime(s, \"%m/%d/%Y\").timetuple())\n",
    "daynow = round(daynow)\n"
   ]
  },
  {
   "cell_type": "code",
   "execution_count": 103,
   "metadata": {},
   "outputs": [
    {
     "data": {
      "text/plain": [
       "'https://api.darksky.net/forecast//52.5200,13.4050,1294808400'"
      ]
     },
     "execution_count": 103,
     "metadata": {},
     "output_type": "execute_result"
    }
   ],
   "source": [
    "SEARCH_LIMIT = 10\n",
    "url_base = 'https://api.darksky.net/forecast/'\n",
    "longitude = '52.5200'\n",
    "latitude = '13.4050'\n",
    "url = url_base + api_key +'/' + str(longitude) + ',' + str(latitude) + ',' + str(daynow)\n",
    "url"
   ]
  },
  {
   "cell_type": "code",
<<<<<<< HEAD
   "execution_count": 83,
=======
   "execution_count": 3,
>>>>>>> 284e972f27d6aaf4061d422341b85c53c052390a
   "metadata": {},
   "outputs": [],
   "source": [
    "# headers = {'key':api_key}\n",
    "\n",
    "# url_params = {\n",
    "#                 'longitude':52.5200\n",
    "#                 'latitude':13.4050\n",
    "#                 'time':daynow\n",
    "#             }\n",
<<<<<<< HEAD
    "response = requests.get(url)#, headers=headers, params=url_params)"
=======
    "response = requests.get('https://api.darksky.net/forecast/cd35acf369b55daae38db9a2dd08b546/37.8267,-122.4233,1322715600')#, headers=headers, params=url_params)\n",
    "\n"
>>>>>>> 284e972f27d6aaf4061d422341b85c53c052390a
   ]
  },
  {
   "cell_type": "code",
<<<<<<< HEAD
   "execution_count": 84,
=======
   "execution_count": 4,
>>>>>>> 284e972f27d6aaf4061d422341b85c53c052390a
   "metadata": {},
   "outputs": [
    {
     "data": {
      "text/plain": [
       "200"
      ]
     },
<<<<<<< HEAD
     "execution_count": 84,
=======
     "execution_count": 4,
>>>>>>> 284e972f27d6aaf4061d422341b85c53c052390a
     "metadata": {},
     "output_type": "execute_result"
    }
   ],
   "source": [
    "response.status_code"
   ]
  },
  {
   "cell_type": "code",
   "execution_count": 5,
   "metadata": {},
   "outputs": [
    {
     "data": {
      "text/plain": [
       "'{\"latitude\":37.8267,\"longitude\":-122.4233,\"timezone\":\"America/Los_Angeles\",\"currently\":{\"time\":1322715600,\"summary\":\"Clear\",\"icon\":\"clear-night\",\"precipIntensity\":0,\"precipProbability\":0,\"temperature\":59.79,\"apparentTemperature\":59.79,\"dewPoint\":29.13,\"humidity\":0.31,\"pressure\":1022.72,\"windSpeed\":10.59,\"windGust\":18.48,\"windBearing\":11,\"cloudCover\":0,\"uvIndex\":0,\"visibility\":9.997},\"hourly\":{\"summary\":\"Foggy overnight and in the morning.\",\"icon\":\"fog\",\"data\":[{\"time\":1322640000,\"summary\":\"Foggy\",\"icon\":\"fog\",\"precipIntensity\":0,\"precipProbability\":0,\"temperature\":48.4,\"apparentTemperature\":48.4,\"dewPoint\":45.25,\"humidity\":0.89,\"pressure\":1022.68,\"windSpeed\":0.98,\"windGust\":1.57,\"windBearing\":106,\"cloudCover\":1,\"uvIndex\":0,\"visibility\":1.221},{\"time\":1322643600,\"summary\":\"Foggy\",\"icon\":\"fog\",\"precipIntensity\":0,\"precipProbability\":0,\"temperature\":47.99,\"apparentTemperature\":47.99,\"dewPoint\":44.98,\"humidity\":0.89,\"pressure\":1022.31,\"windSpeed\":0.92,\"windGust\":2.22,\"windBearing\":329,\"cloudCover\":1,\"uvIndex\":0,\"visibility\":1.218},{\"time\":1322647200,\"summary\":\"Foggy\",\"icon\":\"fog\",\"precipIntensity\":0,\"precipProbability\":0,\"temperature\":47.7,\"apparentTemperature\":47.7,\"dewPoint\":44.92,\"humidity\":0.9,\"pressure\":1022.27,\"windSpeed\":0.93,\"windGust\":1.77,\"windBearing\":329,\"cloudCover\":1,\"uvIndex\":0,\"visibility\":0.607},{\"time\":1322650800,\"summary\":\"Foggy\",\"icon\":\"fog\",\"precipIntensity\":0,\"precipProbability\":0,\"temperature\":47.41,\"apparentTemperature\":47.41,\"dewPoint\":44.74,\"humidity\":0.9,\"pressure\":1022.36,\"windSpeed\":1.49,\"windGust\":3.21,\"windBearing\":334,\"cloudCover\":1,\"uvIndex\":0,\"visibility\":0.259},{\"time\":1322654400,\"summary\":\"Foggy\",\"icon\":\"fog\",\"precipIntensity\":0,\"precipProbability\":0,\"temperature\":47.23,\"apparentTemperature\":47.23,\"dewPoint\":44.54,\"humidity\":0.9,\"pressure\":1022.06,\"windSpeed\":1.74,\"windGust\":2.35,\"windBearing\":4,\"cloudCover\":1,\"uvIndex\":0,\"visibility\":0.694},{\"time\":1322658000,\"summary\":\"Foggy\",\"icon\":\"fog\",\"precipIntensity\":0,\"precipProbability\":0,\"temperature\":46.68,\"apparentTemperature\":46.68,\"dewPoint\":44.08,\"humidity\":0.91,\"pressure\":1022.01,\"windSpeed\":2.45,\"windGust\":4.68,\"windBearing\":354,\"cloudCover\":1,\"uvIndex\":0,\"visibility\":1.364},{\"time\":1322661600,\"summary\":\"Foggy\",\"icon\":\"fog\",\"precipIntensity\":0,\"precipProbability\":0,\"temperature\":46.33,\"apparentTemperature\":45.21,\"dewPoint\":43.57,\"humidity\":0.9,\"pressure\":1022.35,\"windSpeed\":3.34,\"windGust\":5.82,\"windBearing\":11,\"cloudCover\":1,\"uvIndex\":0,\"visibility\":1.66},{\"time\":1322665200,\"summary\":\"Overcast\",\"icon\":\"cloudy\",\"precipIntensity\":0,\"precipProbability\":0,\"temperature\":46.32,\"apparentTemperature\":44.66,\"dewPoint\":43.55,\"humidity\":0.9,\"pressure\":1022.84,\"windSpeed\":3.95,\"windGust\":5.94,\"windBearing\":13,\"cloudCover\":0.96,\"uvIndex\":0,\"visibility\":4.007},{\"time\":1322668800,\"summary\":\"Mostly Cloudy\",\"icon\":\"partly-cloudy-day\",\"precipIntensity\":0,\"precipProbability\":0,\"temperature\":46.05,\"apparentTemperature\":44.34,\"dewPoint\":43.12,\"humidity\":0.89,\"pressure\":1022.96,\"windSpeed\":3.96,\"windGust\":6.53,\"windBearing\":359,\"cloudCover\":0.86,\"uvIndex\":0,\"visibility\":3.137},{\"time\":1322672400,\"summary\":\"Mostly Cloudy\",\"icon\":\"partly-cloudy-day\",\"precipIntensity\":0,\"precipProbability\":0,\"temperature\":46.86,\"apparentTemperature\":45.41,\"dewPoint\":43.82,\"humidity\":0.89,\"pressure\":1023.66,\"windSpeed\":3.79,\"windGust\":7.01,\"windBearing\":351,\"cloudCover\":0.83,\"uvIndex\":1,\"visibility\":4.498},{\"time\":1322676000,\"summary\":\"Mostly Cloudy\",\"icon\":\"partly-cloudy-day\",\"precipIntensity\":0,\"precipProbability\":0,\"temperature\":48.87,\"apparentTemperature\":46.9,\"dewPoint\":44.68,\"humidity\":0.85,\"pressure\":1023.95,\"windSpeed\":4.99,\"windGust\":9.18,\"windBearing\":351,\"cloudCover\":0.52,\"uvIndex\":1,\"visibility\":7.125},{\"time\":1322679600,\"summary\":\"Clear\",\"icon\":\"clear-day\",\"precipIntensity\":0,\"precipProbability\":0,\"temperature\":52.42,\"apparentTemperature\":52.42,\"dewPoint\":44.02,\"humidity\":0.73,\"pressure\":1024.01,\"windSpeed\":6.6,\"windGust\":10.55,\"windBearing\":330,\"cloudCover\":0.12,\"uvIndex\":2,\"visibility\":9.997},{\"time\":1322683200,\"summary\":\"Clear\",\"icon\":\"clear-day\",\"precipIntensity\":0,\"precipProbability\":0,\"temperature\":56.84,\"apparentTemperature\":56.84,\"dewPoint\":41.68,\"humidity\":0.57,\"pressure\":1022.56,\"windSpeed\":5.66,\"windGust\":11.4,\"windBearing\":347,\"cloudCover\":0.03,\"uvIndex\":2,\"visibility\":9.997},{\"time\":1322686800,\"summary\":\"Clear\",\"icon\":\"clear-day\",\"precipIntensity\":0,\"precipProbability\":0,\"temperature\":60.53,\"apparentTemperature\":60.53,\"dewPoint\":38.6,\"humidity\":0.44,\"pressure\":1022.1,\"windSpeed\":6.97,\"windGust\":13.48,\"windBearing\":347,\"cloudCover\":0,\"uvIndex\":2,\"visibility\":9.997},{\"time\":1322690400,\"summary\":\"Clear\",\"icon\":\"clear-day\",\"precipIntensity\":0,\"precipProbability\":0,\"temperature\":63.38,\"apparentTemperature\":63.38,\"dewPoint\":33.4,\"humidity\":0.33,\"pressure\":1021.09,\"windSpeed\":9.31,\"windGust\":16.42,\"windBearing\":356,\"cloudCover\":0,\"uvIndex\":1,\"visibility\":9.997},{\"time\":1322694000,\"summary\":\"Clear\",\"icon\":\"clear-day\",\"precipIntensity\":0,\"precipProbability\":0,\"temperature\":63.88,\"apparentTemperature\":63.88,\"dewPoint\":31.99,\"humidity\":0.3,\"pressure\":1020.85,\"windSpeed\":9.91,\"windGust\":15.48,\"windBearing\":357,\"cloudCover\":0,\"uvIndex\":1,\"visibility\":9.997},{\"time\":1322697600,\"summary\":\"Clear\",\"icon\":\"clear-day\",\"precipIntensity\":0,\"precipProbability\":0,\"temperature\":64.21,\"apparentTemperature\":64.21,\"dewPoint\":29.97,\"humidity\":0.27,\"pressure\":1021.02,\"windSpeed\":10.44,\"windGust\":17.79,\"windBearing\":359,\"cloudCover\":0,\"uvIndex\":0,\"visibility\":9.997},{\"time\":1322701200,\"summary\":\"Clear\",\"icon\":\"clear-night\",\"precipIntensity\":0,\"precipProbability\":0,\"temperature\":62.74,\"apparentTemperature\":62.74,\"dewPoint\":28.87,\"humidity\":0.28,\"pressure\":1021.14,\"windSpeed\":9.21,\"windGust\":16.55,\"windBearing\":0,\"cloudCover\":0,\"uvIndex\":0,\"visibility\":9.997},{\"time\":1322704800,\"summary\":\"Clear\",\"icon\":\"clear-night\",\"precipIntensity\":0,\"precipProbability\":0,\"temperature\":61.34,\"apparentTemperature\":61.34,\"dewPoint\":28.29,\"humidity\":0.28,\"pressure\":1021.13,\"windSpeed\":9.67,\"windGust\":15.74,\"windBearing\":2,\"cloudCover\":0,\"uvIndex\":0,\"visibility\":9.997},{\"time\":1322708400,\"summary\":\"Clear\",\"icon\":\"clear-night\",\"precipIntensity\":0,\"precipProbability\":0,\"temperature\":60.72,\"apparentTemperature\":60.72,\"dewPoint\":28.58,\"humidity\":0.29,\"pressure\":1021.62,\"windSpeed\":9.47,\"windGust\":16.56,\"windBearing\":10,\"cloudCover\":0,\"uvIndex\":0,\"visibility\":9.997},{\"time\":1322712000,\"summary\":\"Clear\",\"icon\":\"clear-night\",\"precipIntensity\":0,\"precipProbability\":0,\"temperature\":60.49,\"apparentTemperature\":60.49,\"dewPoint\":28.65,\"humidity\":0.3,\"pressure\":1022.08,\"windSpeed\":10.72,\"windGust\":18.7,\"windBearing\":2,\"cloudCover\":0,\"uvIndex\":0,\"visibility\":9.997},{\"time\":1322715600,\"summary\":\"Clear\",\"icon\":\"clear-night\",\"precipIntensity\":0,\"precipProbability\":0,\"temperature\":59.79,\"apparentTemperature\":59.79,\"dewPoint\":29.13,\"humidity\":0.31,\"pressure\":1022.72,\"windSpeed\":10.59,\"windGust\":18.48,\"windBearing\":11,\"cloudCover\":0,\"uvIndex\":0,\"visibility\":9.997},{\"time\":1322719200,\"summary\":\"Clear\",\"icon\":\"clear-night\",\"precipIntensity\":0,\"precipProbability\":0,\"temperature\":59.26,\"apparentTemperature\":59.26,\"dewPoint\":28.49,\"humidity\":0.31,\"pressure\":1023.11,\"windSpeed\":10.13,\"windGust\":17.15,\"windBearing\":19,\"cloudCover\":0,\"uvIndex\":0,\"visibility\":9.997},{\"time\":1322722800,\"summary\":\"Clear\",\"icon\":\"clear-night\",\"precipIntensity\":0,\"precipProbability\":0,\"temperature\":58.41,\"apparentTemperature\":58.41,\"dewPoint\":28.79,\"humidity\":0.32,\"pressure\":1023.46,\"windSpeed\":10.16,\"windGust\":17.13,\"windBearing\":20,\"cloudCover\":0,\"uvIndex\":0,\"visibility\":9.997}]},\"daily\":{\"data\":[{\"time\":1322640000,\"summary\":\"Foggy in the morning.\",\"icon\":\"partly-cloudy-day\",\"sunriseTime\":1322665624,\"sunsetTime\":1322700765,\"moonPhase\":0.21,\"precipIntensity\":0,\"precipIntensityMax\":0,\"precipIntensityMaxTime\":1322647200,\"precipProbability\":0,\"temperatureHigh\":64.21,\"temperatureHighTime\":1322697600,\"temperatureLow\":55.48,\"temperatureLowTime\":1322751600,\"apparentTemperatureHigh\":64.21,\"apparentTemperatureHighTime\":1322697600,\"apparentTemperatureLow\":55.48,\"apparentTemperatureLowTime\":1322751600,\"dewPoint\":37.45,\"humidity\":0.6,\"pressure\":1022.4,\"windSpeed\":6.26,\"windGust\":18.7,\"windGustTime\":1322712000,\"windBearing\":3,\"cloudCover\":0.41,\"uvIndex\":2,\"uvIndexTime\":1322683200,\"visibility\":6.63,\"temperatureMin\":46.05,\"temperatureMinTime\":1322668800,\"temperatureMax\":64.21,\"temperatureMaxTime\":1322697600,\"apparentTemperatureMin\":44.34,\"apparentTemperatureMinTime\":1322668800,\"apparentTemperatureMax\":64.21,\"apparentTemperatureMaxTime\":1322697600}]},\"flags\":{\"sources\":[\"cmc\",\"gfs\",\"hrrr\",\"icon\",\"isd\",\"madis\",\"nam\",\"sref\"],\"nearest-station\":1.234,\"units\":\"us\"},\"offset\":-8}\\n'"
      ]
     },
     "execution_count": 5,
     "metadata": {},
     "output_type": "execute_result"
    }
   ],
   "source": [
    "response.text"
   ]
  },
  {
   "cell_type": "code",
   "execution_count": null,
   "metadata": {},
   "outputs": [],
   "source": []
  },
  {
   "cell_type": "code",
   "execution_count": null,
   "metadata": {},
   "outputs": [],
   "source": []
  },
  {
   "cell_type": "code",
   "execution_count": null,
   "metadata": {},
   "outputs": [],
   "source": []
  },
  {
   "cell_type": "code",
   "execution_count": null,
   "metadata": {},
   "outputs": [],
   "source": []
  },
  {
   "cell_type": "code",
   "execution_count": null,
   "metadata": {},
   "outputs": [],
   "source": []
  }
 ],
 "metadata": {
  "kernelspec": {
   "display_name": "Python 3",
   "language": "python",
   "name": "python3"
  },
  "language_info": {
   "codemirror_mode": {
    "name": "ipython",
    "version": 3
   },
   "file_extension": ".py",
   "mimetype": "text/x-python",
   "name": "python",
   "nbconvert_exporter": "python",
   "pygments_lexer": "ipython3",
   "version": "3.7.3"
  }
 },
 "nbformat": 4,
 "nbformat_minor": 2
}
