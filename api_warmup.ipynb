{
 "cells": [
  {
   "cell_type": "markdown",
   "metadata": {},
   "source": [
    "GET SWAPI!!!!\n",
    "\n",
    "This morning we are going to go over some of our API fetch calls using the JSON of a classic film series: Star Wars\n",
    "\n",
    "You will make requests from:\n",
    "https://swapi.co/api\n",
    "\n",
    "Here is the API documentation: https://swapi.co/documentation\n",
    "\n",
    "Code the solution to answer the following questions:\n",
    "\n",
    "1. The population of the planet Geonosis\n",
    "2. The cargo capacity of the AT-ST vehicle\n",
    "3. The birth year of Darth Vader\n",
    "4. The eye color of the Gungan species  \n",
    "BONUS: \n",
    "5. Our API indicates that Chewbacca, Han Solo, and Lando Calrissian have all piloted the Millennium Falcon at one point or another. However, there seems to be one more pilot mentioned in the API. We want to grab the name of the homeworld of the fourth pilot of the Millennium Falcon. How would we do so?"
   ]
  },
  {
   "cell_type": "code",
   "execution_count": 1,
   "metadata": {},
   "outputs": [],
   "source": [
    "import requests\n",
    "import pandas as pd\n",
    "import pdb"
   ]
  },
  {
   "cell_type": "code",
   "execution_count": 2,
   "metadata": {},
   "outputs": [
    {
     "data": {
      "text/plain": [
       "200"
      ]
     },
     "execution_count": 2,
     "metadata": {},
     "output_type": "execute_result"
    }
   ],
   "source": [
    "response = requests.get('https://swapi.co/api/planets')\n",
    "response.status_code"
   ]
  },
  {
   "cell_type": "code",
   "execution_count": 5,
   "metadata": {},
   "outputs": [],
   "source": [
    "planet_dict = response.json()"
   ]
  },
  {
   "cell_type": "code",
   "execution_count": 94,
   "metadata": {},
   "outputs": [
    {
     "data": {
      "text/plain": [
       "[{'name': 'Alderaan',\n",
       "  'rotation_period': '24',\n",
       "  'orbital_period': '364',\n",
       "  'diameter': '12500',\n",
       "  'climate': 'temperate',\n",
       "  'gravity': '1 standard',\n",
       "  'terrain': 'grasslands, mountains',\n",
       "  'surface_water': '40',\n",
       "  'population': '2000000000',\n",
       "  'residents': ['https://swapi.co/api/people/5/',\n",
       "   'https://swapi.co/api/people/68/',\n",
       "   'https://swapi.co/api/people/81/'],\n",
       "  'films': ['https://swapi.co/api/films/6/', 'https://swapi.co/api/films/1/'],\n",
       "  'created': '2014-12-10T11:35:48.479000Z',\n",
       "  'edited': '2014-12-20T20:58:18.420000Z',\n",
       "  'url': 'https://swapi.co/api/planets/2/'},\n",
       " {'name': 'Yavin IV',\n",
       "  'rotation_period': '24',\n",
       "  'orbital_period': '4818',\n",
       "  'diameter': '10200',\n",
       "  'climate': 'temperate, tropical',\n",
       "  'gravity': '1 standard',\n",
       "  'terrain': 'jungle, rainforests',\n",
       "  'surface_water': '8',\n",
       "  'population': '1000',\n",
       "  'residents': [],\n",
       "  'films': ['https://swapi.co/api/films/1/'],\n",
       "  'created': '2014-12-10T11:37:19.144000Z',\n",
       "  'edited': '2014-12-20T20:58:18.421000Z',\n",
       "  'url': 'https://swapi.co/api/planets/3/'},\n",
       " {'name': 'Hoth',\n",
       "  'rotation_period': '23',\n",
       "  'orbital_period': '549',\n",
       "  'diameter': '7200',\n",
       "  'climate': 'frozen',\n",
       "  'gravity': '1.1 standard',\n",
       "  'terrain': 'tundra, ice caves, mountain ranges',\n",
       "  'surface_water': '100',\n",
       "  'population': 'unknown',\n",
       "  'residents': [],\n",
       "  'films': ['https://swapi.co/api/films/2/'],\n",
       "  'created': '2014-12-10T11:39:13.934000Z',\n",
       "  'edited': '2014-12-20T20:58:18.423000Z',\n",
       "  'url': 'https://swapi.co/api/planets/4/'},\n",
       " {'name': 'Dagobah',\n",
       "  'rotation_period': '23',\n",
       "  'orbital_period': '341',\n",
       "  'diameter': '8900',\n",
       "  'climate': 'murky',\n",
       "  'gravity': 'N/A',\n",
       "  'terrain': 'swamp, jungles',\n",
       "  'surface_water': '8',\n",
       "  'population': 'unknown',\n",
       "  'residents': [],\n",
       "  'films': ['https://swapi.co/api/films/2/',\n",
       "   'https://swapi.co/api/films/6/',\n",
       "   'https://swapi.co/api/films/3/'],\n",
       "  'created': '2014-12-10T11:42:22.590000Z',\n",
       "  'edited': '2014-12-20T20:58:18.425000Z',\n",
       "  'url': 'https://swapi.co/api/planets/5/'},\n",
       " {'name': 'Bespin',\n",
       "  'rotation_period': '12',\n",
       "  'orbital_period': '5110',\n",
       "  'diameter': '118000',\n",
       "  'climate': 'temperate',\n",
       "  'gravity': '1.5 (surface), 1 standard (Cloud City)',\n",
       "  'terrain': 'gas giant',\n",
       "  'surface_water': '0',\n",
       "  'population': '6000000',\n",
       "  'residents': ['https://swapi.co/api/people/26/'],\n",
       "  'films': ['https://swapi.co/api/films/2/'],\n",
       "  'created': '2014-12-10T11:43:55.240000Z',\n",
       "  'edited': '2014-12-20T20:58:18.427000Z',\n",
       "  'url': 'https://swapi.co/api/planets/6/'},\n",
       " {'name': 'Endor',\n",
       "  'rotation_period': '18',\n",
       "  'orbital_period': '402',\n",
       "  'diameter': '4900',\n",
       "  'climate': 'temperate',\n",
       "  'gravity': '0.85 standard',\n",
       "  'terrain': 'forests, mountains, lakes',\n",
       "  'surface_water': '8',\n",
       "  'population': '30000000',\n",
       "  'residents': ['https://swapi.co/api/people/30/'],\n",
       "  'films': ['https://swapi.co/api/films/3/'],\n",
       "  'created': '2014-12-10T11:50:29.349000Z',\n",
       "  'edited': '2014-12-20T20:58:18.429000Z',\n",
       "  'url': 'https://swapi.co/api/planets/7/'},\n",
       " {'name': 'Naboo',\n",
       "  'rotation_period': '26',\n",
       "  'orbital_period': '312',\n",
       "  'diameter': '12120',\n",
       "  'climate': 'temperate',\n",
       "  'gravity': '1 standard',\n",
       "  'terrain': 'grassy hills, swamps, forests, mountains',\n",
       "  'surface_water': '12',\n",
       "  'population': '4500000000',\n",
       "  'residents': ['https://swapi.co/api/people/3/',\n",
       "   'https://swapi.co/api/people/21/',\n",
       "   'https://swapi.co/api/people/36/',\n",
       "   'https://swapi.co/api/people/37/',\n",
       "   'https://swapi.co/api/people/38/',\n",
       "   'https://swapi.co/api/people/39/',\n",
       "   'https://swapi.co/api/people/42/',\n",
       "   'https://swapi.co/api/people/60/',\n",
       "   'https://swapi.co/api/people/61/',\n",
       "   'https://swapi.co/api/people/66/',\n",
       "   'https://swapi.co/api/people/35/'],\n",
       "  'films': ['https://swapi.co/api/films/5/',\n",
       "   'https://swapi.co/api/films/4/',\n",
       "   'https://swapi.co/api/films/6/',\n",
       "   'https://swapi.co/api/films/3/'],\n",
       "  'created': '2014-12-10T11:52:31.066000Z',\n",
       "  'edited': '2014-12-20T20:58:18.430000Z',\n",
       "  'url': 'https://swapi.co/api/planets/8/'},\n",
       " {'name': 'Coruscant',\n",
       "  'rotation_period': '24',\n",
       "  'orbital_period': '368',\n",
       "  'diameter': '12240',\n",
       "  'climate': 'temperate',\n",
       "  'gravity': '1 standard',\n",
       "  'terrain': 'cityscape, mountains',\n",
       "  'surface_water': 'unknown',\n",
       "  'population': '1000000000000',\n",
       "  'residents': ['https://swapi.co/api/people/34/',\n",
       "   'https://swapi.co/api/people/55/',\n",
       "   'https://swapi.co/api/people/74/'],\n",
       "  'films': ['https://swapi.co/api/films/5/',\n",
       "   'https://swapi.co/api/films/4/',\n",
       "   'https://swapi.co/api/films/6/',\n",
       "   'https://swapi.co/api/films/3/'],\n",
       "  'created': '2014-12-10T11:54:13.921000Z',\n",
       "  'edited': '2014-12-20T20:58:18.432000Z',\n",
       "  'url': 'https://swapi.co/api/planets/9/'},\n",
       " {'name': 'Kamino',\n",
       "  'rotation_period': '27',\n",
       "  'orbital_period': '463',\n",
       "  'diameter': '19720',\n",
       "  'climate': 'temperate',\n",
       "  'gravity': '1 standard',\n",
       "  'terrain': 'ocean',\n",
       "  'surface_water': '100',\n",
       "  'population': '1000000000',\n",
       "  'residents': ['https://swapi.co/api/people/22/',\n",
       "   'https://swapi.co/api/people/72/',\n",
       "   'https://swapi.co/api/people/73/'],\n",
       "  'films': ['https://swapi.co/api/films/5/'],\n",
       "  'created': '2014-12-10T12:45:06.577000Z',\n",
       "  'edited': '2014-12-20T20:58:18.434000Z',\n",
       "  'url': 'https://swapi.co/api/planets/10/'},\n",
       " {'name': 'Geonosis',\n",
       "  'rotation_period': '30',\n",
       "  'orbital_period': '256',\n",
       "  'diameter': '11370',\n",
       "  'climate': 'temperate, arid',\n",
       "  'gravity': '0.9 standard',\n",
       "  'terrain': 'rock, desert, mountain, barren',\n",
       "  'surface_water': '5',\n",
       "  'population': '100000000000',\n",
       "  'residents': ['https://swapi.co/api/people/63/'],\n",
       "  'films': ['https://swapi.co/api/films/5/'],\n",
       "  'created': '2014-12-10T12:47:22.350000Z',\n",
       "  'edited': '2014-12-20T20:58:18.437000Z',\n",
       "  'url': 'https://swapi.co/api/planets/11/'}]"
      ]
     },
     "execution_count": 94,
     "metadata": {},
     "output_type": "execute_result"
    }
   ],
   "source": [
    "response.json()['results']"
   ]
  },
  {
   "cell_type": "code",
   "execution_count": 6,
   "metadata": {
    "scrolled": true
   },
   "outputs": [
    {
     "data": {
      "text/plain": [
       "dict_keys(['count', 'next', 'previous', 'results'])"
      ]
     },
     "execution_count": 6,
     "metadata": {},
     "output_type": "execute_result"
    }
   ],
   "source": [
    "planet_dict.keys()"
   ]
  },
  {
   "cell_type": "code",
   "execution_count": 59,
   "metadata": {},
   "outputs": [],
   "source": [
    "def explore_iter_type_dict(response):\n",
    "    import requests\n",
    "    for key in response.json().keys():\n",
    "        print(str(key), str(type(response.json()[key])))"
   ]
  },
  {
   "cell_type": "code",
   "execution_count": 60,
   "metadata": {},
   "outputs": [
    {
     "name": "stdout",
     "output_type": "stream",
     "text": [
      "count <class 'int'>\n",
      "next <class 'str'>\n",
      "previous <class 'NoneType'>\n",
      "results <class 'list'>\n"
     ]
    }
   ],
   "source": [
    "explore_iter_type_dict(response)"
   ]
  },
  {
   "cell_type": "code",
   "execution_count": 92,
   "metadata": {},
   "outputs": [],
   "source": [
    "df = pd.DataFrame(planet_dict['results'])"
   ]
  },
  {
   "cell_type": "code",
   "execution_count": 97,
   "metadata": {},
   "outputs": [
    {
     "name": "stdout",
     "output_type": "stream",
     "text": [
      "a\n",
      "b\n",
      "c\n",
      "d\n",
      "e\n",
      "f\n",
      "g\n"
     ]
    }
   ],
   "source": [
    "testl = {'a':1,'b':2,'c':3,'d':4,'e':5,'f':6,'g':7}\n",
    "for key, val in enumerate(testl):\n",
    "    print(val)"
   ]
  },
  {
   "cell_type": "code",
   "execution_count": 102,
   "metadata": {},
   "outputs": [
    {
     "name": "stdout",
     "output_type": "stream",
     "text": [
      "Geonosis 100000000000\n"
     ]
    }
   ],
   "source": [
    "# for element in response.json()['results']:\n",
    "#     if element['name'] == 'Geonosis':                           #response.json()['results'][element]['name'] == 'Geonosis':\n",
    "#         print(element['name'], 'population', '=', element['population'])\n",
    "\n",
    "selector_1 = 'Geonosis'\n",
    "selector_2 = 'population'\n",
    "\n",
    "i = 0\n",
    "\n",
    "for element in response.json()['results']:\n",
    "    for val, key in enumerate(element):\n",
    "        if element[key] == selector_1:                           \n",
    "            print(element[key], element[selector_2])\n",
    "        "
   ]
  },
  {
   "cell_type": "code",
   "execution_count": 109,
   "metadata": {},
   "outputs": [],
   "source": [
    "def find_param_from_json_result(URL, selector_1, selector_2):     \n",
    "    #pdb.set_trace()\n",
    "    response = requests.get(URL)\n",
    "       \n",
    "    if response.status_code != 200:\n",
    "        return 'oh no!' \n",
    "     \n",
    "    for element in response.json()['results']:\n",
    "        for val, key in enumerate(element):\n",
    "            if element[key] == selector_1:                           \n",
    "                return element[key], element[selector_2]"
   ]
  },
  {
   "cell_type": "markdown",
   "metadata": {},
   "source": [
    "    \"people\": \"https://swapi.co/api/people/\n",
    "    \"planets\": \"https://swapi.co/api/planets/\n",
    "    \"films\": \"https://swapi.co/api/films/\n",
    "    \"species\": \"https://swapi.co/api/species/\n",
    "    \"vehicles\": \"https://swapi.co/api/vehicles/\n",
    "    \"starships\": \"https://swapi.co/api/starships/"
   ]
  },
  {
   "cell_type": "code",
   "execution_count": 110,
   "metadata": {},
   "outputs": [
    {
     "data": {
      "text/plain": [
       "('AT-ST', '200')"
      ]
     },
     "execution_count": 110,
     "metadata": {},
     "output_type": "execute_result"
    }
   ],
   "source": [
    "find_param_from_json_result('https://swapi.co/api/vehicles/', 'AT-ST', 'cargo_capacity')"
   ]
  },
  {
   "cell_type": "code",
   "execution_count": 112,
   "metadata": {},
   "outputs": [
    {
     "data": {
      "text/plain": [
       "('Darth Vader', '41.9BBY')"
      ]
     },
     "execution_count": 112,
     "metadata": {},
     "output_type": "execute_result"
    }
   ],
   "source": [
    "find_param_from_json_result('https://swapi.co/api/people/', 'Darth Vader','birth_year' )"
   ]
  },
  {
   "cell_type": "code",
   "execution_count": 113,
   "metadata": {},
   "outputs": [
    {
     "data": {
      "text/plain": [
       "('Gungan', 'orange')"
      ]
     },
     "execution_count": 113,
     "metadata": {},
     "output_type": "execute_result"
    }
   ],
   "source": [
    "find_param_from_json_result('https://swapi.co/api/species/','Gungan','eye_colors')"
   ]
  },
  {
   "cell_type": "code",
   "execution_count": null,
   "metadata": {},
   "outputs": [],
   "source": []
  }
 ],
 "metadata": {
  "kernelspec": {
   "display_name": "Python 3",
   "language": "python",
   "name": "python3"
  },
  "language_info": {
   "codemirror_mode": {
    "name": "ipython",
    "version": 3
   },
   "file_extension": ".py",
   "mimetype": "text/x-python",
   "name": "python",
   "nbconvert_exporter": "python",
   "pygments_lexer": "ipython3",
   "version": "3.7.3"
  }
 },
 "nbformat": 4,
 "nbformat_minor": 2
}
